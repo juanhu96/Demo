{
 "cells": [
  {
   "cell_type": "code",
   "execution_count": 1,
   "metadata": {},
   "outputs": [],
   "source": [
    "import numpy as np\n",
    "import pandas as pd"
   ]
  },
  {
   "cell_type": "code",
   "execution_count": 3,
   "metadata": {},
   "outputs": [],
   "source": [
    "datadir = \"/export/storage_covidvaccine/Data\"\n",
    "outdir = \"/export/storage_covidvaccine/Result\""
   ]
  },
  {
   "cell_type": "code",
   "execution_count": 4,
   "metadata": {},
   "outputs": [
    {
     "name": "stdout",
     "output_type": "stream",
     "text": [
      "Distance to HPI merge:\n",
      " both          7789\n",
      "left_only      268\n",
      "right_only       1\n",
      "Name: _merge, dtype: int64\n"
     ]
    }
   ],
   "source": [
    "# import tract data\n",
    "tract_nearest_df = pd.read_csv(f\"{datadir}/Intermediate/tract_nearest_dist.csv\", dtype={'tract': str}) #from read_tract_dist.py\n",
    "tract_hpi_df = pd.read_csv(f\"{datadir}/Raw/hpi2score.csv\", dtype={'geoid': str}, usecols=['geoid', 'value', 'percentile'])\n",
    "tract_hpi_df.drop(columns=['percentile'], inplace=True)\n",
    "tract_hpi_df.sort_values(by='value', inplace=True)\n",
    "tract_hpi_df['hpi_quartile'] = pd.qcut(tract_hpi_df['value'], 4, labels=False) + 1\n",
    "tract_hpi_df.rename(columns={'geoid': 'tract', 'value': 'hpi'}, inplace=True)\n",
    "tract_hpi_df.tract.apply(len).value_counts() # all 11 digits\n",
    "tract_hpi_df['tract'] = tract_hpi_df['tract'].str[1:] # drop the first digit\n",
    "# merge hpi and nearest pharmacy\n",
    "tracts = tract_nearest_df.merge(tract_hpi_df, on='tract', how='outer', indicator=True)\n",
    "print(\"Distance to HPI merge:\\n\", tracts._merge.value_counts())\n",
    "tracts = tracts.loc[tracts._merge != 'right_only', :] #only one right_only\n",
    "tracts.drop(columns=['_merge'], inplace=True)\n",
    "tracts = tracts.loc[tracts['hpi'].notnull(), :] #keep only tracts with HPI"
   ]
  },
  {
   "cell_type": "code",
   "execution_count": 5,
   "metadata": {},
   "outputs": [],
   "source": [
    "# tract demographics\n",
    "tract_demog = pd.read_csv(f\"{datadir}/Raw/notreallyraw/TRACT_merged.csv\", dtype={'tract': str})\n",
    "tract_demog.columns = tract_demog.columns.str.lower()\n",
    "tract_demog.rename(columns={'population': 'tr_pop'}, inplace=True)\n",
    "tract_demog.drop(columns=['state_id', 'county_id', 'tract_id', 'hpi', 'hpiquartile', 'dshare', 'rshare', 'dvotes', 'rvotes', 'sum_votes', 'latitude', 'longitude', 'land_area', 'health_none', 'race_white'], inplace=True) #TODO: re-construct these things \n",
    "tract_demog['tract'] \n",
    "tract_demog['tract'].apply(lambda x: x[0]).value_counts() \n",
    "tract_demog['tract'].apply(len).value_counts() # all 10-digits that start with 6\n",
    "for vv in ['health_employer','health_medicare','health_medicaid','health_other']:\n",
    "    tract_demog[vv] = tract_demog[vv].fillna(tract_demog[vv].mean())\n"
   ]
  },
  {
   "cell_type": "code",
   "execution_count": 6,
   "metadata": {},
   "outputs": [
    {
     "name": "stdout",
     "output_type": "stream",
     "text": [
      "Merge to demographics:\n",
      " both          8057\n",
      "left_only        0\n",
      "right_only       0\n",
      "Name: _merge, dtype: int64\n"
     ]
    }
   ],
   "source": [
    "tract_demog.loc[tract_demog['tr_pop'] == 0, 'tr_pop'] = 1 # avoid divide by zero\n",
    "tracts = tracts.merge(tract_demog, on='tract', how='outer', indicator=True)\n",
    "print(\"Merge to demographics:\\n\", tracts._merge.value_counts()) #perfect match\n",
    "tracts = tracts.loc[tracts._merge != 'right_only', :]\n",
    "tracts.drop(columns=['_merge'], inplace=True)\n",
    "# drop tracts with zero population\n",
    "tracts = tracts.loc[tracts['tr_pop'] > 0, :]"
   ]
  },
  {
   "cell_type": "code",
   "execution_count": null,
   "metadata": {},
   "outputs": [],
   "source": [
    "# Mechanism \"Random-FCFS\": First-come, first-served with a random order for where people fall in line. \n",
    "# Mechanism \"Sequential\": Everyone tries their first-choice and ties are broken randomly, then everyone tries their second choice and ties are broken randomly, etc. Narratively, this would be people signing on and trying to schedule an appointment and if they fail, by the time they get to try again, everyone else will have tried once. "
   ]
  },
  {
   "cell_type": "code",
   "execution_count": null,
   "metadata": {},
   "outputs": [],
   "source": []
  }
 ],
 "metadata": {
  "kernelspec": {
   "display_name": "Python 3",
   "language": "python",
   "name": "python3"
  },
  "language_info": {
   "codemirror_mode": {
    "name": "ipython",
    "version": 3
   },
   "file_extension": ".py",
   "mimetype": "text/x-python",
   "name": "python",
   "nbconvert_exporter": "python",
   "pygments_lexer": "ipython3",
   "version": "3.9.12"
  },
  "orig_nbformat": 4
 },
 "nbformat": 4,
 "nbformat_minor": 2
}
